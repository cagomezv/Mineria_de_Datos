{
 "cells": [
  {
   "cell_type": "markdown",
   "id": "28c562de-248e-42b1-a2ac-d14c8cb906fb",
   "metadata": {},
   "source": [
    "# Introducción a Pandas"
   ]
  },
  {
   "cell_type": "markdown",
   "id": "b8ce8d5b-269a-466d-a359-ebdab467dbfe",
   "metadata": {},
   "source": [
    "#Instalación y carga de librerías\n",
    "#Hay que tener instalado pandas y seaborn (que incluye el dataset iris):\n",
    "!pip install pandas seaborn"
   ]
  },
  {
   "cell_type": "markdown",
   "id": "19f3c374-64b9-429a-824d-7292a1526503",
   "metadata": {},
   "source": [
    "# 1. Importación de librerias necesarias \n",
    "\n",
    "<div style=\"text-align:center;\">\n",
    "  <a href=\"https://pandas.pydata.org/\">\n",
    "    <img src=\"https://upload.wikimedia.org/wikipedia/commons/thumb/e/ed/Pandas_logo.svg/512px-Pandas_logo.svg.png\" style=\"width:400px; display:inline-block; margin-right:20px;\">\n",
    "  </a>\n",
    "  <a href=\"https://seaborn.pydata.org/\">\n",
    "    <img src=\"https://avatars.githubusercontent.com/u/22799945?s=280&v=4\" style=\"width:200px; display:inline-block;\">\n",
    "  </a>\n",
    "</div>\n"
   ]
  },
  {
   "cell_type": "code",
   "execution_count": 3,
   "id": "89c02d0f-58b0-47fe-9004-c6eb9afc274b",
   "metadata": {},
   "outputs": [],
   "source": [
    "#Importación de librerias\n",
    "import pandas as pd\n",
    "import seaborn as sns"
   ]
  },
  {
   "cell_type": "markdown",
   "id": "abf39667-4f19-4490-ac49-6971c2a7efa2",
   "metadata": {},
   "source": [
    "# 2. Carga de datos\n",
    "\n",
    "Iris es un famoso conjunto de datos utilizado comúnmente en estadística, aprendizaje automático y análisis de datos. Fue introducido por el botánico Edgar Anderson en 1936 y contiene información sobre tres especies de iris (Iris setosa, Iris versicolor e Iris virginica), con 150 muestras en total. Cada muestra tiene 4 características o atributos:\n",
    "\n",
    "1. Longitud del sépalo.\n",
    "2. Ancho del sépalo.\n",
    "3. Longitud del pétalo.\n",
    "4. Ancho del pétalo.\n",
    "\n",
    "<table>\n",
    "  <tr>\n",
    "    <td style=\"text-align:center;\">\n",
    "      <strong>Iris Setosa</strong><br>\n",
    "      <img src=\"https://upload.wikimedia.org/wikipedia/commons/thumb/5/56/Kosaciec_szczecinkowaty_Iris_setosa.jpg/220px-Kosaciec_szczecinkowaty_Iris_setosa.jpg\" style=\"width:150px;\">\n",
    "    </td>\n",
    "    <td style=\"text-align:center;\">\n",
    "      <strong>Iris Versicolor</strong><br>\n",
    "      <img src=\"https://upload.wikimedia.org/wikipedia/commons/thumb/4/41/Iris_versicolor_3.jpg/220px-Iris_versicolor_3.jpg\" style=\"width:250px;\">\n",
    "    </td>\n",
    "    <td style=\"text-align:center;\">\n",
    "      <strong>Iris Virginica</strong><br>\n",
    "      <img src=\"https://upload.wikimedia.org/wikipedia/commons/thumb/9/9f/Iris_virginica.jpg/220px-Iris_virginica.jpg\" style=\"width:250px;\">\n",
    "    </td>\n",
    "  </tr>\n",
    "</table>\n",
    "\n",
    "   \n",
    "El conjunto de datos es popular por ser un ejemplo accesible y bien estructurado para probar y aprender técnicas de clasificación, regresión y análisis de datos. A menudo se usa como referencia en tutoriales de aprendizaje automático, ya que es lo suficientemente pequeño para manipular y permite experimentar con distintos algoritmos de clasificación."
   ]
  },
  {
   "cell_type": "code",
   "execution_count": 5,
   "id": "7c2ab728-aee5-46e2-bf89-3546af99fb7b",
   "metadata": {},
   "outputs": [
    {
     "name": "stdout",
     "output_type": "stream",
     "text": [
      "   sepal_length  sepal_width  petal_length  petal_width species\n",
      "0           5.1          3.5           1.4          0.2  setosa\n",
      "1           4.9          3.0           1.4          0.2  setosa\n",
      "2           4.7          3.2           1.3          0.2  setosa\n",
      "3           4.6          3.1           1.5          0.2  setosa\n",
      "4           5.0          3.6           1.4          0.2  setosa\n"
     ]
    }
   ],
   "source": [
    "#Cargar dataset de iris\n",
    "# Cargar el dataset\n",
    "iris = sns.load_dataset(\"iris\")\n",
    "\n",
    "# Convertir a pandas DataFrame (aunque seaborn ya lo carga como tal)\n",
    "df = pd.DataFrame(iris)\n",
    "\n",
    "# Mostrar las primeras filas del DataFrame\n",
    "print(df.head())"
   ]
  },
  {
   "cell_type": "markdown",
   "id": "141d87d8-df72-4b10-8360-de1a9e17e9f8",
   "metadata": {},
   "source": [
    "# 3. Exploración básica del dataset\n",
    "- Dimensiones del dataset: Número de filas y columnas.\n",
    "- Información sobre los tipos de datos: Revisar qué tipo de datos contiene cada columna.\n",
    "- Descripción estadística básica: Estadísticas resumidas de las columnas numéricas."
   ]
  },
  {
   "cell_type": "code",
   "execution_count": 9,
   "id": "175055d6-2ca6-4ff9-93da-ecc9341731e7",
   "metadata": {},
   "outputs": [
    {
     "name": "stdout",
     "output_type": "stream",
     "text": [
      "(150, 5)\n",
      "___________________________________________________________\n",
      "___________________________________________________________\n",
      "<class 'pandas.core.frame.DataFrame'>\n",
      "RangeIndex: 150 entries, 0 to 149\n",
      "Data columns (total 5 columns):\n",
      " #   Column        Non-Null Count  Dtype  \n",
      "---  ------        --------------  -----  \n",
      " 0   sepal_length  150 non-null    float64\n",
      " 1   sepal_width   150 non-null    float64\n",
      " 2   petal_length  150 non-null    float64\n",
      " 3   petal_width   150 non-null    float64\n",
      " 4   species       150 non-null    object \n",
      "dtypes: float64(4), object(1)\n",
      "memory usage: 6.0+ KB\n",
      "None\n",
      "___________________________________________________________\n",
      "___________________________________________________________\n",
      "       sepal_length  sepal_width  petal_length  petal_width\n",
      "count    150.000000   150.000000    150.000000   150.000000\n",
      "mean       5.843333     3.057333      3.758000     1.199333\n",
      "std        0.828066     0.435866      1.765298     0.762238\n",
      "min        4.300000     2.000000      1.000000     0.100000\n",
      "25%        5.100000     2.800000      1.600000     0.300000\n",
      "50%        5.800000     3.000000      4.350000     1.300000\n",
      "75%        6.400000     3.300000      5.100000     1.800000\n",
      "max        7.900000     4.400000      6.900000     2.500000\n"
     ]
    }
   ],
   "source": [
    "# Dimensiones del dataset\n",
    "print(df.shape)\n",
    "print(\"___________________________________________________________\")\n",
    "print(\"___________________________________________________________\")\n",
    "# Información de los tipos de datos\n",
    "print(df.info())\n",
    "print(\"___________________________________________________________\")\n",
    "print(\"___________________________________________________________\")\n",
    "# Estadísticas descriptivas básicas\n",
    "print(df.describe())"
   ]
  },
  {
   "cell_type": "markdown",
   "id": "5006164e-fe48-40b9-a1f2-21a27734cac8",
   "metadata": {},
   "source": [
    "# 4. Acceder a columnas específicas\n",
    "Podemos acceder a una columna específica de la siguiente manera:"
   ]
  },
  {
   "cell_type": "code",
   "execution_count": 10,
   "id": "a8377d5e-6661-43e7-b634-aadfa642812a",
   "metadata": {},
   "outputs": [
    {
     "name": "stdout",
     "output_type": "stream",
     "text": [
      "0    setosa\n",
      "1    setosa\n",
      "2    setosa\n",
      "3    setosa\n",
      "4    setosa\n",
      "Name: species, dtype: object\n"
     ]
    }
   ],
   "source": [
    "# Acceder a la columna 'species'\n",
    "print(df['species'].head())"
   ]
  },
  {
   "cell_type": "code",
   "execution_count": 11,
   "id": "e6f0f4bb-ed00-4220-8318-304218c013fe",
   "metadata": {},
   "outputs": [
    {
     "name": "stdout",
     "output_type": "stream",
     "text": [
      "   sepal_length species\n",
      "0           5.1  setosa\n",
      "1           4.9  setosa\n",
      "2           4.7  setosa\n",
      "3           4.6  setosa\n",
      "4           5.0  setosa\n"
     ]
    }
   ],
   "source": [
    "# Seleccionar varias columnas\n",
    "print(df[['sepal_length', 'species']].head())"
   ]
  },
  {
   "cell_type": "markdown",
   "id": "b371a9a4-46a9-4a51-ba4b-dc858dc382a5",
   "metadata": {},
   "source": [
    "# 5. Filtrar filas del dataset\n",
    "Filtrar el dataset en función de una condición. Por ejemplo, seleccionemos todas las filas donde la longitud del sépalo es mayor a 5.0."
   ]
  },
  {
   "cell_type": "code",
   "execution_count": 12,
   "id": "417dcf34-a5c5-4c2b-9881-d4b45407ff57",
   "metadata": {},
   "outputs": [
    {
     "name": "stdout",
     "output_type": "stream",
     "text": [
      "    sepal_length  sepal_width  petal_length  petal_width species\n",
      "0            5.1          3.5           1.4          0.2  setosa\n",
      "5            5.4          3.9           1.7          0.4  setosa\n",
      "10           5.4          3.7           1.5          0.2  setosa\n",
      "14           5.8          4.0           1.2          0.2  setosa\n",
      "15           5.7          4.4           1.5          0.4  setosa\n"
     ]
    }
   ],
   "source": [
    "# Filtrar filas\n",
    "filtered_df = df[df['sepal_length'] > 5.0]\n",
    "print(filtered_df.head())"
   ]
  },
  {
   "cell_type": "markdown",
   "id": "84e32ad0-a2a7-48af-a761-a255005fbbaa",
   "metadata": {},
   "source": [
    "# 6. Operaciones básicas: agregar nuevas columnas\n",
    "Podemos crear nuevas columnas basadas en operaciones sobre las columnas existentes."
   ]
  },
  {
   "cell_type": "code",
   "execution_count": 13,
   "id": "5c07afea-cd43-4734-8f45-8347a9865aad",
   "metadata": {},
   "outputs": [
    {
     "name": "stdout",
     "output_type": "stream",
     "text": [
      "   sepal_length  sepal_width  petal_length  petal_width species  sepal_ratio\n",
      "0           5.1          3.5           1.4          0.2  setosa     1.457143\n",
      "1           4.9          3.0           1.4          0.2  setosa     1.633333\n",
      "2           4.7          3.2           1.3          0.2  setosa     1.468750\n",
      "3           4.6          3.1           1.5          0.2  setosa     1.483871\n",
      "4           5.0          3.6           1.4          0.2  setosa     1.388889\n"
     ]
    }
   ],
   "source": [
    "# Crear una nueva columna 'sepal_ratio' que es la relación entre la longitud y el ancho del sépalo\n",
    "df['sepal_ratio'] = df['sepal_length'] / df['sepal_width']\n",
    "print(df.head())"
   ]
  },
  {
   "cell_type": "markdown",
   "id": "ea427a5b-340b-4df0-b606-1f6a93c11419",
   "metadata": {},
   "source": [
    "# <span style=\"color:red\">Actividad Práctica con *pandas* (usando `tips` de Seaborn)</span>\n",
    "\n",
    "En esta actividad explorarás el conjunto de datos **tips** (propinas en un restaurante). Este dataset contiene información sobre:\n",
    "\n",
    "- **total_bill:** Monto total de la cuenta (en dólares).\n",
    "- **tip:** Propina que se deja (en dólares).\n",
    "- **sex:** Género de la persona que pagó la cuenta (`Male` o `Female`).\n",
    "- **smoker:** Indica si en la mesa había fumadores (`Yes`) o no (`No`).\n",
    "- **day:** Día de la semana en que se registró la cuenta (`Thur`, `Fri`, `Sat`, `Sun`).\n",
    "- **time:** Momento del día en que ocurrió la comida (`Lunch` o `Dinner`).\n",
    "- **size:** Número de personas sentadas en la mesa.\n",
    "---\n",
    "## Instrucciones\n",
    "1. **Carga de librerías y dataset**  \n",
    "   - Importa `pandas` y `seaborn`.\n",
    "   - Carga el dataset **tips** usando `seaborn.load_dataset(\"tips\")` y conviértelo a un DataFrame de `pandas`."
   ]
  },
  {
   "cell_type": "code",
   "execution_count": null,
   "id": "fc77b944-6182-40fb-bb33-ced2b398c80b",
   "metadata": {},
   "outputs": [],
   "source": []
  },
  {
   "cell_type": "markdown",
   "id": "71a0fab2-649e-43e4-b040-26d35eca2680",
   "metadata": {},
   "source": [
    "2. **Exploración inicial**  \n",
    "   - Muestra las **primeras 5 filas** del DataFrame (usa `head()`).\n",
    "   - Imprime las **dimensiones** (filas y columnas) del DataFrame.\n",
    "   - Muestra la **información** (tipos de datos, valores nulos, etc.) usando `info()`.\n",
    "   - Obtén **estadísticas descriptivas** de las columnas numéricas con `describe()`."
   ]
  },
  {
   "cell_type": "code",
   "execution_count": null,
   "id": "611f10e4-01f2-4fc6-8d35-31f4685db41f",
   "metadata": {},
   "outputs": [],
   "source": []
  },
  {
   "cell_type": "markdown",
   "id": "db23ad80-092d-4865-8a72-ab91bf062b1b",
   "metadata": {},
   "source": [
    "3. **Selección y filtrado de datos**  \n",
    "   - Selecciona la columna `time` y muestra las primeras 10 filas de esta columna.\n",
    "   - Filtra y muestra **solo** las filas donde `total_bill` sea **mayor** a 20."
   ]
  },
  {
   "cell_type": "code",
   "execution_count": null,
   "id": "efb707e9-ae68-4fd9-85cd-8b67e57fd822",
   "metadata": {},
   "outputs": [],
   "source": []
  },
  {
   "cell_type": "markdown",
   "id": "2affb781-dd79-4d3b-a3ca-76a28f24197e",
   "metadata": {},
   "source": [
    "\n",
    "4. **Creación de columnas**  \n",
    "   - Crea una columna llamada `tip_percentage` que sea el resultado de `(tip / total_bill) * 100`.\n",
    "   - Muestra las primeras 5 filas para verificar la nueva columna."
   ]
  },
  {
   "cell_type": "code",
   "execution_count": null,
   "id": "d0d3e372-50ee-48cf-955d-bee2925833dc",
   "metadata": {},
   "outputs": [],
   "source": []
  },
  {
   "cell_type": "markdown",
   "id": "df85d222-4259-40fe-9b2f-89ba91e296a4",
   "metadata": {},
   "source": [
    "5. **Agrupación de datos**  \n",
    "   - Agrupa el DataFrame por la columna `day` y calcula el **promedio** de `total_bill`, `tip` y `tip_percentage`.\n",
    "   - Imprime los resultados."
   ]
  },
  {
   "cell_type": "code",
   "execution_count": null,
   "id": "10f13ff6-8de0-4780-892f-7dd440aad6ed",
   "metadata": {},
   "outputs": [],
   "source": []
  },
  {
   "cell_type": "markdown",
   "id": "d8bed4d2-2aab-4eb7-84ad-e7068175017e",
   "metadata": {},
   "source": [
    "6. **Conclusiones (breve resumen)**  \n",
    "   - Contesta de manera breve:  \n",
    "     - ¿En qué día se registró, en promedio, la mayor propina (`tip`)?  \n",
    "     - ¿Qué pasa con la columna `tip_percentage`? ¿Hay algún día que destaque por tener un porcentaje de propina más alto?  \n",
    "     - ¿Qué observas al filtrar por `total_bill > 20`?"
   ]
  },
  {
   "cell_type": "code",
   "execution_count": null,
   "id": "98def6df-bb5e-4e42-b1ff-843181ede022",
   "metadata": {},
   "outputs": [],
   "source": []
  }
 ],
 "metadata": {
  "kernelspec": {
   "display_name": "Python 3 (ipykernel)",
   "language": "python",
   "name": "python3"
  },
  "language_info": {
   "codemirror_mode": {
    "name": "ipython",
    "version": 3
   },
   "file_extension": ".py",
   "mimetype": "text/x-python",
   "name": "python",
   "nbconvert_exporter": "python",
   "pygments_lexer": "ipython3",
   "version": "3.11.9"
  }
 },
 "nbformat": 4,
 "nbformat_minor": 5
}
