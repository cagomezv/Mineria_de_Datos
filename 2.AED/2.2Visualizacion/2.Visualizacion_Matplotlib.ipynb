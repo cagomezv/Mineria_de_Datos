{
 "cells": [
  {
   "cell_type": "markdown",
   "metadata": {
    "id": "TrRwisKx_sxI"
   },
   "source": [
    "# Visualización con Matplotlib\n",
    "\n",
    "Recorrido por las diferentes opciones que tenemos a la hora de realizar gráficos. Se utilizarán [Matplotlib](https://matplotlib.org/stable/index.html) y [Plotly](https://plotly.com/) como backend de los gráficos y también resutará utils la libreria [Pandas](https://pandas.pydata.org/pandas-docs/stable/index.html) para realizar visualizaciones de manera más simple y rápida.\n",
    "\n",
    "\n",
    "Empezamos, importamos las librerias a utilizar."
   ]
  },
  {
   "cell_type": "code",
   "execution_count": null,
   "metadata": {
    "id": "jsqfmZSd_sxJ"
   },
   "outputs": [],
   "source": [
    "import pandas as pd\n",
    "import numpy as np\n",
    "import matplotlib.pyplot as plt\n",
    "import datetime\n",
    "%matplotlib inline"
   ]
  },
  {
   "cell_type": "markdown",
   "metadata": {
    "id": "S7iGg9_L_sxK"
   },
   "source": [
    "## Matplotlib\n",
    "\n",
    "Matplotlib será el backend de nuestros gráficos. Veremos que cada gráfico de matplotlib se compone por un objeto del tipo **Figure**, que será donde se grafiquen los datos. Cada figura contiene uno o más ejes, llamados **Axes**. Dentro de estos objetos podremos acceder a métodos y atributos que nos permitirán graficar los datos y configurar nuestros gráficos."
   ]
  },
  {
   "cell_type": "markdown",
   "metadata": {
    "id": "nn9OFMYY_sxL"
   },
   "source": [
    "Primer acercamiento"
   ]
  },
  {
   "cell_type": "code",
   "execution_count": null,
   "metadata": {
    "id": "yiW81nCL_sxM"
   },
   "outputs": [],
   "source": [
    "plt.plot([1,2,34,14,45,34,100, 50,109])"
   ]
  },
  {
   "cell_type": "markdown",
   "metadata": {
    "id": "iDbJv61x_sxM"
   },
   "source": [
    "Ahora creamos un objeto Figure (fig) y otro Axes (ax). Luegos gráficamos unos puntos."
   ]
  },
  {
   "cell_type": "code",
   "execution_count": null,
   "metadata": {
    "id": "Sri4nlak_sxN"
   },
   "outputs": [],
   "source": [
    "fig, ax = plt.subplots()\n",
    "\n",
    "z1 = np.linspace(1, 2, 100)\n",
    "z2 = np.log(z1) ** np.sin(z1)\n",
    "z3 = np.exp(z1) ** np.cos(z1)\n",
    "\n",
    "ax.plot(z1)\n",
    "ax.plot(z2)\n",
    "ax.plot(z3)\n",
    "\n",
    "fig.show()"
   ]
  },
  {
   "cell_type": "markdown",
   "metadata": {
    "id": "ZUJgvsgE_sxO"
   },
   "source": [
    "Le podemos agregar un título y nombre a los ejes, al igual que etiquetas a cada una de las trazas."
   ]
  },
  {
   "cell_type": "code",
   "execution_count": null,
   "metadata": {
    "id": "LcI6kQ7b_sxO"
   },
   "outputs": [],
   "source": [
    "fig, ax = plt.subplots()\n",
    "\n",
    "ax.set_title('Ejemplo Matplotlib')\n",
    "ax.set_xlabel('Eje X')\n",
    "ax.set_ylabel('Eje Y')\n",
    "\n",
    "ax.plot(z1, label = 'np.linspace(1, 2, 100)')\n",
    "ax.plot(z2, label = 'np.log(z1) ** np.sin(z1)')\n",
    "ax.plot(z3, label = 'np.exp(z1) ** np.cos(z1)')\n",
    "\n",
    "fig.legend(loc=4, ) # Muestra leyenda\n",
    "fig.show()"
   ]
  },
  {
   "cell_type": "markdown",
   "metadata": {
    "id": "ei8UoHa0_sxP"
   },
   "source": [
    "Tambien podemos visualizar tres gráficos distintos en una misma figura. De la misma manera se podría configurar cada uno de los ejes."
   ]
  },
  {
   "cell_type": "code",
   "execution_count": null,
   "metadata": {
    "id": "AJJTOOCs_sxP"
   },
   "outputs": [],
   "source": [
    "fig, ax = plt.subplots(figsize = (20,5), ncols=3, nrows=1)\n",
    "\n",
    "# Titulo de la figura\n",
    "fig.suptitle('Título Superior', fontsize=18, y = 1.04)\n",
    "\n",
    "# Titulo de cada eje\n",
    "ax[0].set_title('Título inferior')\n",
    "ax[1].set_title('Título inferior')\n",
    "ax[2].set_title('Título inferior')\n",
    "\n",
    "ax[0].plot(z1, color='red', label = 'np.linspace(1, 2, 100)')\n",
    "ax[1].plot(z2, color='skyblue', label = 'np.log(z1) ** np.sin(z1)')\n",
    "ax[2].plot(z3, color='yellow', label = 'np.exp(z1) ** np.cos(z1)')\n",
    "\n",
    "\n",
    "fig.legend()\n",
    "fig.show()"
   ]
  },
  {
   "cell_type": "markdown",
   "metadata": {
    "id": "Ayno98im_sxQ"
   },
   "source": [
    "## World Bank Data API"
   ]
  },
  {
   "cell_type": "code",
   "execution_count": null,
   "metadata": {
    "id": "VxBTLM3a_sxR"
   },
   "outputs": [],
   "source": [
    "#!pip install wbdata\n",
    "import wbdata"
   ]
  },
  {
   "cell_type": "markdown",
   "metadata": {
    "id": "HtOYXzxF_sxR"
   },
   "source": [
    "Vemos el principal funcionamiento de la API.\n",
    "\n",
    "Se sugiere recorrer la fuente de datos."
   ]
  },
  {
   "cell_type": "code",
   "execution_count": null,
   "metadata": {
    "id": "Lg4c1IfU_sxR"
   },
   "outputs": [],
   "source": [
    "#wbdata.get_source()"
   ]
  },
  {
   "cell_type": "code",
   "execution_count": null,
   "metadata": {
    "id": "QL2m9LuC_sxS"
   },
   "outputs": [],
   "source": [
    "# Source 12: indicares de genero\n",
    "wbdata.get_indicator(source=14)"
   ]
  },
  {
   "cell_type": "markdown",
   "metadata": {
    "id": "0T2MIoH8_sxS"
   },
   "source": [
    "## Graficando con Pandas"
   ]
  },
  {
   "cell_type": "markdown",
   "metadata": {
    "id": "z6tbqOqo_sxS"
   },
   "source": [
    "### Grafico de torta"
   ]
  },
  {
   "cell_type": "code",
   "execution_count": null,
   "metadata": {
    "id": "s2iP3KXo_sxT"
   },
   "outputs": [],
   "source": [
    "indicadores = {'HD.HCI.LAYS.FE':'educacion_femenina','HD.HCI.LAYS.MA':'educacion_masculina'}\n",
    "\n",
    "data = wbdata.get_dataframe(indicadores, country=['USA','ARG'])\n",
    "\n",
    "df = pd.DataFrame(data=data)"
   ]
  },
  {
   "cell_type": "code",
   "execution_count": null,
   "metadata": {
    "id": "bRDWFtie_sxT"
   },
   "outputs": [],
   "source": [
    "df.head()"
   ]
  },
  {
   "cell_type": "code",
   "execution_count": null,
   "metadata": {
    "id": "JbLsWIFV_sxU"
   },
   "outputs": [],
   "source": [
    "aux = df.reset_index()\n",
    "aux = aux.loc[aux['date'] == '2020'] # Vemos que la fecha esta en formato string.\n",
    "aux['educacion_femenina'] = aux['educacion_femenina'].astype(float)\n",
    "aux['educacion_masculina'] = aux['educacion_masculina'].astype(float)\n",
    "aux.set_index('country', inplace=True)\n",
    "aux = aux[['educacion_femenina', 'educacion_femenina']]"
   ]
  },
  {
   "cell_type": "markdown",
   "metadata": {
    "id": "nVHMQYZa_sxV"
   },
   "source": [
    "Hacemos un gráfico de tortas para comparar la educación por género entre Argentina y Estado Unidos de manera relativa."
   ]
  },
  {
   "cell_type": "code",
   "execution_count": null,
   "metadata": {
    "id": "XoKlaLoN_sxV",
    "jupyter": {
     "source_hidden": true
    }
   },
   "outputs": [],
   "source": [
    "ax1, ax2 = aux.plot.pie(subplots=True,figsize=(8,4), colors=['yellow', 'skyblue'],\n",
    "                      autopct='%.2f')\n",
    "\n",
    "ax1.set_title('Educación femenina USA vs ARG', color='black')\n",
    "ax2.set_title('Educación masculina USA vs ARG', color='black')"
   ]
  },
  {
   "cell_type": "markdown",
   "metadata": {
    "id": "d_o3ACsN_sxW"
   },
   "source": [
    "### Serie de tiempo\n",
    "\n",
    "Vemos la educacion en la poblacion a lo largo de los años"
   ]
  },
  {
   "cell_type": "code",
   "execution_count": null,
   "metadata": {
    "id": "b9xLzEmk_sxW"
   },
   "outputs": [],
   "source": [
    "date_time = datetime.datetime(1950,1,1), datetime.datetime(2010,1,1)\n",
    "\n",
    "\n",
    "# Porcentaje de no educacion en la población\n",
    "indicadores = {'BAR.NOED.1519.ZS':'15-19','BAR.NOED.2024.ZS':'20-24',\n",
    "              'BAR.NOED.2529.ZS':'25-29', 'BAR.NOED.3034.ZS':'30-34',\n",
    "              'BAR.NOED.3539.ZS':'35-39' , 'BAR.NOED.4044.ZS':'40-44',\n",
    "              'BAR.NOED.4549.ZS':'45-49', 'BAR.NOED.5054.ZS':'50-54',\n",
    "              'BAR.NOED.5559.ZS':'55-59'}\n",
    "\n",
    "data = wbdata.get_dataframe(indicadores, country = 'ARG', data_date = date_time)\n",
    "df = pd.DataFrame(data=data)"
   ]
  },
  {
   "cell_type": "code",
   "execution_count": null,
   "metadata": {
    "id": "vv7RCIOt_sxW"
   },
   "outputs": [],
   "source": [
    "print('Valores nulos:',sum(df.isna().sum()))"
   ]
  },
  {
   "cell_type": "markdown",
   "metadata": {
    "id": "_nuDxc_X_sxW"
   },
   "source": [
    "El dataset contiene va desde el año 1950 a 2010 y con ddatos cada cinco años. Como vamos a enfocarnos en la visualizacion dejamos los datos nulos de lado."
   ]
  },
  {
   "cell_type": "code",
   "execution_count": null,
   "metadata": {
    "id": "bDGvi3fW_sxW"
   },
   "outputs": [],
   "source": [
    "df.dropna(inplace=True)"
   ]
  },
  {
   "cell_type": "markdown",
   "metadata": {
    "id": "C_FS6ZIS_sxX"
   },
   "source": [
    "Breve resumen descriptivo"
   ]
  },
  {
   "cell_type": "code",
   "execution_count": null,
   "metadata": {
    "id": "jwW5Ynzw_sxX"
   },
   "outputs": [],
   "source": [
    "df.describe()"
   ]
  },
  {
   "cell_type": "markdown",
   "metadata": {
    "id": "WjNZ-Zeh_sxX"
   },
   "source": [
    "Graficamos el porcentaje de la poblacion no educado de toda la población para distintas categorías de edades."
   ]
  },
  {
   "cell_type": "code",
   "execution_count": null,
   "metadata": {
    "id": "9oHQskzp_sxX"
   },
   "outputs": [],
   "source": [
    "df.iloc[8,].plot(style = '-.', label = '1970', legend=True)\n",
    "df.iloc[5,].plot(style = ('--'), label = '1990', legend = True)\n",
    "df.iloc[1,].plot(style = '-', label = '2010', legend = True)\n",
    "plt.title('Porcentaje de no educación')\n",
    "plt.ylabel('Porcentaje',color = 'grey')\n",
    "plt.xlabel('Edad', color = 'grey')\n",
    "plt.xticks([0,1,2,3,4,5,6,7,8],df.columns.tolist())"
   ]
  },
  {
   "cell_type": "markdown",
   "metadata": {
    "id": "VIgDuM9a_sxX"
   },
   "source": [
    "Esta vez lo hacemos sólo para la población femenina."
   ]
  },
  {
   "cell_type": "code",
   "execution_count": null,
   "metadata": {
    "id": "QpYOLjJe_sxY"
   },
   "outputs": [],
   "source": [
    "date_time = datetime.datetime(1950,1,1), datetime.datetime(2010,1,1)\n",
    "\n",
    "# Porcentaje de mujeres sin educacion por rango etario\n",
    "indicadores = {'BAR.NOED.1519.FE.ZS':'15-19','BAR.NOED.2024.FE.ZS':'20-24',\n",
    "              'BAR.NOED.2529.FE.ZS':'25-29', 'BAR.NOED.3034.FE.ZS':'30-34',\n",
    "              'BAR.NOED.3539.FE.ZS':'35-39' , 'BAR.NOED.4044.FE.ZS':'40-44',\n",
    "              'BAR.NOED.4549.FE.ZS':'45-49', 'BAR.NOED.5054.FE.ZS':'50-54',\n",
    "              'BAR.NOED.5559.FE.ZS':'55-59'}\n",
    "\n",
    "df1 = wbdata.get_dataframe(indicadores, country = 'ARG', data_date=date_time)\n",
    "df1.dropna(inplace = True)"
   ]
  },
  {
   "cell_type": "markdown",
   "metadata": {
    "id": "fmcKsFLP_sxY"
   },
   "source": [
    "Porcentaje no educado de la población femenina."
   ]
  },
  {
   "cell_type": "code",
   "execution_count": null,
   "metadata": {
    "id": "nOe7atee_sxY"
   },
   "outputs": [],
   "source": [
    "df1.iloc[8,].plot(style = '-.', label = '1970', legend=True)\n",
    "df1.iloc[5,].plot(style = '-.', label = '1990', legend = True)\n",
    "df1.iloc[1,].plot(style = '-.', label = '2010', legend = True)\n",
    "plt.title('Porcentaje de no educación femenino')\n",
    "plt.ylabel('Porcentaje',color = 'grey')\n",
    "plt.xlabel('Edad', color = 'grey')\n",
    "plt.xticks([0,1,2,3,4,5,6,7,8],df.columns.tolist())"
   ]
  },
  {
   "cell_type": "markdown",
   "metadata": {
    "id": "GeuBb4W-_sxY"
   },
   "source": [
    "Ahora comparamos la educacion de la población total vs población femenina en los años 1970 y 2010."
   ]
  },
  {
   "cell_type": "code",
   "execution_count": null,
   "metadata": {
    "id": "YlzzTMyk_sxY"
   },
   "outputs": [],
   "source": [
    "# 2010\n",
    "df.iloc[1,].plot(style = '-.', label = '2010', legend = True)\n",
    "df1.iloc[1,].plot(style = '-.', label = '2010-F', legend = True)\n",
    "# 1970\n",
    "df.iloc[8,].plot(style = '-.', label = '1970', legend=True)\n",
    "df1.iloc[8,].plot(style = '-.', label = '1970-F', legend=True)\n",
    "plt.title('Comparación no educación mujeres y población')\n",
    "plt.xlabel('Edad', color = 'grey')\n",
    "plt.ylabel('Porcentaje', color = 'grey')\n",
    "plt.xticks([0,1,2,3,4,5,6,7,8],df.columns.tolist())"
   ]
  },
  {
   "cell_type": "markdown",
   "metadata": {
    "id": "vBBYIp7q_sxe"
   },
   "source": [
    "Vemos que luego de 40 años la brecha se acoto."
   ]
  },
  {
   "cell_type": "markdown",
   "metadata": {
    "id": "PduVESEF_sxe"
   },
   "source": [
    "## Gráfico de barras\n"
   ]
  },
  {
   "cell_type": "code",
   "execution_count": null,
   "metadata": {
    "id": "w0aa6_Dl_sxe"
   },
   "outputs": [],
   "source": [
    "df.head(5)"
   ]
  },
  {
   "cell_type": "code",
   "execution_count": null,
   "metadata": {
    "id": "4KVIDj9d_sxf"
   },
   "outputs": [],
   "source": [
    "ax = df.plot(kind='bar',\n",
    "       title='Gráficos de barras de toda la población')\n",
    "ax.set_xlabel('Años',color='grey')\n",
    "ax.set_ylabel('Porcentaje',color='grey')"
   ]
  },
  {
   "cell_type": "markdown",
   "metadata": {
    "id": "xh5HoZ6-_sxf"
   },
   "source": [
    "Lo hacemos en horizontal y apilamos la población en una barra."
   ]
  },
  {
   "cell_type": "code",
   "execution_count": null,
   "metadata": {
    "id": "TkUJYRwo_sxf"
   },
   "outputs": [],
   "source": [
    "ax = df1.plot.barh(stacked=True)\n",
    "ax.set_title('Graficos de barras apilados')\n",
    "ax.set_xlabel('Porcentaje',color='grey')\n",
    "ax.set_ylabel('Años',color='grey')"
   ]
  },
  {
   "cell_type": "markdown",
   "metadata": {
    "id": "q47rcfOg_sxf"
   },
   "source": [
    "## Histogramas"
   ]
  },
  {
   "cell_type": "markdown",
   "metadata": {
    "id": "46CoeFue_sxg"
   },
   "source": [
    "Vamos a trabajar con el [Indice de facilidad para hacer negocios](https://es.wikipedia.org/wiki/%C3%8Dndice_de_facilidad_para_hacer_negocios) en distintos países.\n"
   ]
  },
  {
   "cell_type": "markdown",
   "metadata": {
    "id": "zHu33SCR_sxg"
   },
   "source": [
    "Seleccionamos los paises a utilizar y creamos el dataframe."
   ]
  },
  {
   "cell_type": "code",
   "execution_count": null,
   "metadata": {
    "id": "vwGKnnMP_sxg"
   },
   "outputs": [],
   "source": [
    "paises = [i['id'] for i in wbdata.get_country(incomelevel=['LIC','HIC'])]\n",
    "\n",
    "# Seleccionamos nuestros nuevos datos\n",
    "indicadores = {\"IC.BUS.EASE.XQ\": \"indice_negocio\", \"NY.GDP.PCAP.PP.KD\": \"PIBPC\"}\n",
    "\n",
    "data = wbdata.get_dataframe(indicadores, country=paises, convert_date=True)\n",
    "df = pd.DataFrame(data=data)"
   ]
  },
  {
   "cell_type": "code",
   "execution_count": null,
   "metadata": {
    "id": "-DOVwVtI_sxg"
   },
   "outputs": [],
   "source": [
    "df.dropna(inplace=True)"
   ]
  },
  {
   "cell_type": "code",
   "execution_count": null,
   "metadata": {
    "id": "EhfSbBkw_sxh"
   },
   "outputs": [],
   "source": [
    "df.info()"
   ]
  },
  {
   "cell_type": "code",
   "execution_count": null,
   "metadata": {
    "id": "hmU8B8Ww_sxh"
   },
   "outputs": [],
   "source": [
    "df.head()"
   ]
  },
  {
   "cell_type": "code",
   "execution_count": null,
   "metadata": {
    "id": "vOSrurWy_sxh"
   },
   "outputs": [],
   "source": [
    "plt.figure()\n",
    "df['PIBPC'].plot.hist(alpha=0.7,  # Con alpha seteamos la transparencia\n",
    "                     color='y',\n",
    "                     bins=9,\n",
    "                     title='Distribución del PIB per capita')\n",
    "plt.xlabel('PIB per capita', color='grey')\n",
    "plt.ylabel('Frecuencia',color='grey')"
   ]
  },
  {
   "cell_type": "markdown",
   "metadata": {
    "id": "oxZpSb1z_sxj"
   },
   "source": [
    "## Box plot"
   ]
  },
  {
   "cell_type": "code",
   "execution_count": null,
   "metadata": {
    "id": "AE16lSU-_sxj"
   },
   "outputs": [],
   "source": [
    "df['PIBPC'].plot.box(title='Diagrma de caja PIB')"
   ]
  },
  {
   "cell_type": "markdown",
   "metadata": {
    "id": "dxFgMsV3_sxk"
   },
   "source": [
    "Recordamos que dentro de la caja se encuentra el 50% de la población. La línea verde indica la mediana."
   ]
  },
  {
   "cell_type": "markdown",
   "metadata": {
    "id": "H8dBlgJg_sxk"
   },
   "source": [
    "## Scatter plot"
   ]
  },
  {
   "cell_type": "markdown",
   "metadata": {
    "id": "JgycAaZy_sxk"
   },
   "source": [
    "Hacemos un gráfico de dispersión entre las variables PIB p/ capita e Indice de facilidad p/ hacer negocios."
   ]
  },
  {
   "cell_type": "code",
   "execution_count": null,
   "metadata": {
    "id": "0_Y1RfVH_sxl"
   },
   "outputs": [],
   "source": [
    "df.plot.scatter(y='PIBPC', x='indice_negocio',\n",
    "                c='r',\n",
    "                s=df['PIBPC']**0.4    # Con s seteamos el tamaño de los puntos\n",
    "               )\n",
    "\n",
    "plt.gca().invert_xaxis()\n",
    "plt.xlabel('Indice de facilidad de hacer negocio')\n",
    "plt.ylabel('PIB per capita')"
   ]
  },
  {
   "cell_type": "markdown",
   "metadata": {
    "id": "VKNOJYci_sxl"
   },
   "source": [
    "Es intuitivo que en los países con más facilidad para los negocios tienen un PIB per capita más alto."
   ]
  },
  {
   "cell_type": "markdown",
   "metadata": {
    "id": "1TApo3v6_sxl"
   },
   "source": [
    "Finalmente vemos una variante al gráfico de dispersión, un gráfico hexagonal."
   ]
  },
  {
   "cell_type": "code",
   "execution_count": null,
   "metadata": {
    "id": "ML_kkg7N_sxl"
   },
   "outputs": [],
   "source": [
    "df.plot.hexbin(y='PIBPC', x='indice_negocio', gridsize=15,\n",
    "              title='Gráfico de dispersión hexagonal')\n",
    "plt.gca().invert_xaxis()\n",
    "plt.xlabel('Indice de facilidad de hacer negocio')\n",
    "plt.ylabel('PIB per capita')"
   ]
  },
  {
   "cell_type": "markdown",
   "metadata": {
    "id": "j7ULrXBd_sxm"
   },
   "source": [
    "## Plotly\n",
    "\n",
    "En esta sección utilizaremos la librería [Plotly](https://plotly.com/) para realizar los gráficos. En principio se usará [Plotly Express](https://plotly.com/python/plotly-express/) Luego, en más profundidad se vera un ejemplo con la librería [Plotly Graph Objects](https://plotly.com/python/graph-objects/) que nos permitirá una mayor configuración de los gráficos."
   ]
  },
  {
   "cell_type": "code",
   "execution_count": null,
   "metadata": {
    "id": "pskQVQM1_sxm"
   },
   "outputs": [],
   "source": [
    "import plotly.express as px\n",
    "import plotly.graph_objects as go"
   ]
  },
  {
   "cell_type": "code",
   "execution_count": null,
   "metadata": {
    "id": "HhUetV3t_sxm"
   },
   "outputs": [],
   "source": [
    "a = pd.read_csv('https://unket.s3-sa-east-1.amazonaws.com/data/dataset_reporte_covid_sitio_gobierno.csv')\n",
    "a.info()"
   ]
  },
  {
   "cell_type": "code",
   "execution_count": null,
   "metadata": {
    "id": "uybp1BNv_sxm"
   },
   "outputs": [],
   "source": [
    "a['FECHA'] = pd.to_datetime(a['FECHA'], format='%d%b%Y:%H:%M:%S')"
   ]
  },
  {
   "cell_type": "markdown",
   "metadata": {
    "id": "ECPd5-tP_sxn"
   },
   "source": [
    "Veamos la ocupacion de camas en hospitales del sistema público."
   ]
  },
  {
   "cell_type": "code",
   "execution_count": null,
   "metadata": {
    "id": "jYEHKUoP_sxn"
   },
   "outputs": [],
   "source": [
    "a.sort_values(by='FECHA', inplace=True)\n",
    "aux1 = a.loc[(a['TIPO_DATO'] == 'ocupacion_de_camas_sistema_publico')  &  (a['SUBTIPO_DATO'].isin(['graves_total', 'graves_arm', 'graves_no_arm']))]\n",
    "aux2 = a.loc[(a['TIPO_DATO'] == 'total_de_camas_sistema_publico') & (a['SUBTIPO_DATO'] == 'graves')]\n",
    "aux2.replace({'graves':'camas'}, inplace = True)\n",
    "\n",
    "aux = aux1.append(aux2)\n",
    "\n",
    "\n",
    "px.line(data_frame = aux, x = 'FECHA', y='VALOR', color='SUBTIPO_DATO', title='Ocupacion de camas en hospitales publicos')"
   ]
  },
  {
   "cell_type": "markdown",
   "metadata": {
    "id": "EE634qJV_sxn"
   },
   "source": [
    "Veamos los casos, fallecidos y recuperados a nivel diario."
   ]
  },
  {
   "cell_type": "code",
   "execution_count": null,
   "metadata": {
    "id": "H4bVw1Qu_sxn"
   },
   "outputs": [],
   "source": [
    "# Casos confirmados reportados del dia\n",
    "A = a.loc[(a['TIPO_DATO'] == 'casos_residentes') & (a['SUBTIPO_DATO'] == 'casos_confirmados_reportados_del_dia'), ['FECHA', 'VALOR']].sort_values(by='FECHA')\n",
    "B = a.loc[(a['TIPO_DATO'] == 'casos_residentes') & (a['SUBTIPO_DATO'] == 'fallecidos_reportados_del_dia'), ['FECHA', 'VALOR']].sort_values(by='FECHA')\n",
    "C = a.loc[(a['TIPO_DATO'] == 'casos_residentes') & (a['SUBTIPO_DATO'] == 'recuperados_del_dia'), ['FECHA', 'VALOR']].sort_values(by='FECHA')"
   ]
  },
  {
   "cell_type": "code",
   "execution_count": null,
   "metadata": {
    "id": "RGrVb3D9_sxn"
   },
   "outputs": [],
   "source": [
    "# Objeto Grafico de Plotly\n",
    "traza1 = go.Bar(\n",
    "    x = A['FECHA'],\n",
    "    y = A['VALOR'],\n",
    "    name = 'Casos confirmados diarios',\n",
    "    opacity = 1\n",
    ")"
   ]
  },
  {
   "cell_type": "code",
   "execution_count": null,
   "metadata": {
    "id": "epkwozwY_sxo"
   },
   "outputs": [],
   "source": [
    "traza2 = go.Bar(\n",
    "    x = B['FECHA'],\n",
    "    y = B['VALOR'],\n",
    "    name = 'Fallecidos diarios',\n",
    "    opacity = 1,\n",
    ")"
   ]
  },
  {
   "cell_type": "code",
   "execution_count": null,
   "metadata": {
    "id": "P8591LCS_sxo"
   },
   "outputs": [],
   "source": [
    "traza3 = go.Bar(\n",
    "    x = C['FECHA'],\n",
    "    y = C['VALOR'],\n",
    "    name = 'Recuperados diarios',\n",
    "    opacity = 1,\n",
    ")"
   ]
  },
  {
   "cell_type": "code",
   "execution_count": null,
   "metadata": {
    "id": "Y5zBUUzw_sxo"
   },
   "outputs": [],
   "source": [
    "# Agrego plantilla del objeto\n",
    "plantilla = go.Layout(title='Histogramas por día de semana')\n",
    "\n",
    "fig = go.Figure(data=[traza1, traza2, traza3], layout=plantilla)\n",
    "\n",
    "# Agrego fancy slider\n",
    "fig.update_xaxes(rangeslider_visible=True)\n",
    "\n",
    "fig.show()"
   ]
  },
  {
   "cell_type": "markdown",
   "metadata": {
    "id": "qbVedhGv_sxo"
   },
   "source": [
    "## Extra\n",
    "\n",
    "En este [link](https://colab.research.google.com/github/institutohumai/talleres/blob/master/Twitter_Social_Listening_ejemplo.ipynb#scrollTo=9wbAMuv6nI1t&uniqifier=1) enccontraran una herramienta que clusteriza tweets. Para ello los tweets primero son transformados a embeddings los cuales son vectores de variables discretas. Estos vectores que representan los tweets luego son graficado en 3D, sí ¡3 dimensiones!, con la librería Plotly. Se recomienda inspeccionar el código de la notebook al igual que jugar con la interfaz de la herramienta."
   ]
  }
 ],
 "metadata": {
  "colab": {
   "provenance": []
  },
  "kernelspec": {
   "display_name": "Python 3 (ipykernel)",
   "language": "python",
   "name": "python3"
  },
  "language_info": {
   "codemirror_mode": {
    "name": "ipython",
    "version": 3
   },
   "file_extension": ".py",
   "mimetype": "text/x-python",
   "name": "python",
   "nbconvert_exporter": "python",
   "pygments_lexer": "ipython3",
   "version": "3.11.2"
  }
 },
 "nbformat": 4,
 "nbformat_minor": 4
}
