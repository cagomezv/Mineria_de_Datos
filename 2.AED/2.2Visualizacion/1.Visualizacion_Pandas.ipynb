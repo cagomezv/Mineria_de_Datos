{
 "cells": [
  {
   "cell_type": "markdown",
   "metadata": {},
   "source": [
    "<a href=\"https://colab.research.google.com/github/institutohumai/cursos-python/blob/master/AnalisisDeDatos/5_Visualizacion/Visualizacion_Pandas.ipynb\"> <img src='https://colab.research.google.com/assets/colab-badge.svg' /> </a>\n",
    "<div align=\"center\"> Recordá abrir en una nueva pestaña </div>"
   ]
  },
  {
   "cell_type": "markdown",
   "metadata": {},
   "source": [
    "# Visualización con Pandas y Matplotlib\n",
    "\n",
    "Recorrido por las visualizaciones la libreria [Pandas](https://pandas.pydata.org/pandas-docs/stable/index.html).\n",
    "\n",
    "\n",
    "Empezamos, importamos las librerias a utilizar."
   ]
  },
  {
   "cell_type": "code",
   "execution_count": null,
   "metadata": {},
   "outputs": [],
   "source": [
    "import wbdata\n",
    "import pandas as pd\n",
    "import matplotlib.pyplot as plt\n",
    "import datetime\n",
    "%matplotlib inline"
   ]
  },
  {
   "cell_type": "markdown",
   "metadata": {},
   "source": [
    "## World Bank Data API\n",
    "\n",
    "Vemos el principal funcionamiento de la API.\n",
    "\n",
    "Recorremos la (fuente?) de datos"
   ]
  },
  {
   "cell_type": "code",
   "execution_count": null,
   "metadata": {},
   "outputs": [],
   "source": [
    "wbdata.get_source()  "
   ]
  },
  {
   "cell_type": "markdown",
   "metadata": {},
   "source": [
    "Seleccionamos algunos datos de educacion. [Barro-Lee dataset](http://www.barrolee.com/)"
   ]
  },
  {
   "cell_type": "code",
   "execution_count": null,
   "metadata": {},
   "outputs": [],
   "source": [
    "wbdata.get_indicator(source=12)  "
   ]
  },
  {
   "cell_type": "markdown",
   "metadata": {},
   "source": [
    "## Graficando con Pandas"
   ]
  },
  {
   "cell_type": "markdown",
   "metadata": {},
   "source": [
    "### Grafico de torta"
   ]
  },
  {
   "cell_type": "code",
   "execution_count": null,
   "metadata": {},
   "outputs": [],
   "source": [
    "wbdata.get_indicator(source=14)"
   ]
  },
  {
   "cell_type": "code",
   "execution_count": null,
   "metadata": {},
   "outputs": [],
   "source": [
    "indicadores = {'HD.HCI.LAYS.FE':'educacion_femenina','HD.HCI.LAYS.MA':'educacion_masculina'}\n",
    "\n",
    "data = wbdata.get_dataframe(indicadores, country=['USA','ARG'])\n",
    "\n",
    "df = pd.DataFrame(data=data)"
   ]
  },
  {
   "cell_type": "code",
   "execution_count": null,
   "metadata": {},
   "outputs": [],
   "source": [
    "df.head()"
   ]
  },
  {
   "cell_type": "markdown",
   "metadata": {},
   "source": [
    "Hacemos un gráfico de tortas para comparar la educación por género entre Argentina y Estado Unidos de manera relativa."
   ]
  },
  {
   "cell_type": "code",
   "execution_count": null,
   "metadata": {
    "jupyter": {
     "source_hidden": true
    }
   },
   "outputs": [],
   "source": [
    "ax1, ax2 = df.plot.pie(subplots=True,figsize=(8,4), colors=['yellow', 'skyblue'],\n",
    "                      autopct='%.2f')\n",
    "\n",
    "ax1.set_title('Educación femenina USA vs ARG', color='skyblue')\n",
    "ax2.set_title('Educación masculina USA vs ARG', color='skyblue')"
   ]
  },
  {
   "cell_type": "markdown",
   "metadata": {},
   "source": [
    "### Serie de tiempo\n",
    "\n",
    "Vemos la educacion en la poblacion a lo largo de los años "
   ]
  },
  {
   "cell_type": "code",
   "execution_count": null,
   "metadata": {},
   "outputs": [],
   "source": [
    "date_time = datetime.datetime(1950,1,1), datetime.datetime(2010,1,1)\n",
    "\n",
    "\n",
    "# Porcentaje de no educacion en la población\n",
    "indicadores = {'BAR.NOED.1519.ZS':'15-19','BAR.NOED.2024.ZS':'20-24', \n",
    "              'BAR.NOED.2529.ZS':'25-29', 'BAR.NOED.3034.ZS':'30-34',\n",
    "              'BAR.NOED.3539.ZS':'35-39' , 'BAR.NOED.4044.ZS':'40-44',\n",
    "              'BAR.NOED.4549.ZS':'45-49', 'BAR.NOED.5054.ZS':'50-54',\n",
    "              'BAR.NOED.5559.ZS':'55-59'}\n",
    "\n",
    "data = wbdata.get_dataframe(indicadores, country = 'ARG', data_date = date_time)\n",
    "df = pd.DataFrame(data=data)"
   ]
  },
  {
   "cell_type": "code",
   "execution_count": null,
   "metadata": {},
   "outputs": [],
   "source": [
    "print('Valores nulos:',sum(df.isna().sum()))"
   ]
  },
  {
   "cell_type": "markdown",
   "metadata": {},
   "source": [
    "El dataset contiene va desde el año 1950 a 2010 y con ddatos cada cinco años. Como vamos a enfocarnos en la visualizacion dejamos los datos nulos de lado. "
   ]
  },
  {
   "cell_type": "code",
   "execution_count": null,
   "metadata": {},
   "outputs": [],
   "source": [
    "df.dropna(inplace=True)\n",
    "df"
   ]
  },
  {
   "cell_type": "markdown",
   "metadata": {},
   "source": [
    "Breve resumen descriptivo"
   ]
  },
  {
   "cell_type": "code",
   "execution_count": null,
   "metadata": {},
   "outputs": [],
   "source": [
    "df.describe()"
   ]
  },
  {
   "cell_type": "markdown",
   "metadata": {},
   "source": [
    "Graficamos el porcentaje de la poblacion no educado de toda la población para distintas categorías de edades."
   ]
  },
  {
   "cell_type": "code",
   "execution_count": null,
   "metadata": {},
   "outputs": [],
   "source": [
    "df.iloc[8,].plot(style = '-.', label = '1970', legend=True)\n",
    "df.iloc[5,].plot(style = ('--'), label = '1990', legend = True)\n",
    "df.iloc[1,].plot(style = '-', label = '2010', legend = True)\n",
    "plt.title('Porcentaje de no educación')\n",
    "plt.ylabel('Porcentaje',color = 'grey')\n",
    "plt.xlabel('Edad', color = 'grey')\n",
    "plt.xticks([0,1,2,3,4,5,6,7,8],df.columns.tolist())"
   ]
  },
  {
   "cell_type": "markdown",
   "metadata": {},
   "source": [
    "Esta vez lo hacemos sólo para la población femenina."
   ]
  },
  {
   "cell_type": "code",
   "execution_count": null,
   "metadata": {},
   "outputs": [],
   "source": [
    "date_time = datetime.datetime(1950,1,1), datetime.datetime(2010,1,1)\n",
    "\n",
    "# Porcentaje de mujeres sin educacion por rango etario\n",
    "indicadores = {'BAR.NOED.1519.FE.ZS':'15-19','BAR.NOED.2024.FE.ZS':'20-24', \n",
    "              'BAR.NOED.2529.FE.ZS':'25-29', 'BAR.NOED.3034.FE.ZS':'30-34',\n",
    "              'BAR.NOED.3539.FE.ZS':'35-39' , 'BAR.NOED.4044.FE.ZS':'40-44',\n",
    "              'BAR.NOED.4549.FE.ZS':'45-49', 'BAR.NOED.5054.FE.ZS':'50-54',\n",
    "              'BAR.NOED.5559.FE.ZS':'55-59'}\n",
    "\n",
    "df1 = wbdata.get_dataframe(indicadores, country = 'ARG', data_date=date_time)\n",
    "df1.dropna(inplace = True)"
   ]
  },
  {
   "cell_type": "markdown",
   "metadata": {},
   "source": [
    "Porcentaje no educado de la población femenina."
   ]
  },
  {
   "cell_type": "code",
   "execution_count": null,
   "metadata": {},
   "outputs": [],
   "source": [
    "df1.iloc[8,].plot(style = '-.', label = '1970', legend=True)\n",
    "df1.iloc[5,].plot(style = '-.', label = '1990', legend = True)\n",
    "df1.iloc[1,].plot(style = '-.', label = '2010', legend = True)\n",
    "plt.title('Porcentaje de no educación femenino')\n",
    "plt.ylabel('Porcentaje',color = 'grey')\n",
    "plt.xlabel('Edad', color = 'grey')\n",
    "plt.xticks([0,1,2,3,4,5,6,7,8],df.columns.tolist())"
   ]
  },
  {
   "cell_type": "markdown",
   "metadata": {},
   "source": [
    "Ahora comparamos la educacion de la población total vs población femenina en los años 1970 y 2010. "
   ]
  },
  {
   "cell_type": "code",
   "execution_count": null,
   "metadata": {},
   "outputs": [],
   "source": [
    "# 2010\n",
    "df.iloc[1,].plot(style = '-.', label = '2010', legend = True)\n",
    "df1.iloc[1,].plot(style = '-.', label = '2010-F', legend = True) \n",
    "# 1970\n",
    "df.iloc[8,].plot(style = '-.', label = '1970', legend=True)\n",
    "df1.iloc[8,].plot(style = '-.', label = '1970-F', legend=True)\n",
    "plt.title('Comparación no educación mujeres y población')\n",
    "plt.xlabel('Edad', color = 'grey')\n",
    "plt.ylabel('Porcentaje', color = 'grey')\n",
    "plt.xticks([0,1,2,3,4,5,6,7,8],df.columns.tolist())"
   ]
  },
  {
   "cell_type": "markdown",
   "metadata": {},
   "source": [
    "Vemos que luego de 40 años la brecha se acoto."
   ]
  },
  {
   "cell_type": "markdown",
   "metadata": {},
   "source": [
    "## Gráfico de barras\n"
   ]
  },
  {
   "cell_type": "code",
   "execution_count": null,
   "metadata": {},
   "outputs": [],
   "source": [
    "df.head(5)"
   ]
  },
  {
   "cell_type": "code",
   "execution_count": null,
   "metadata": {},
   "outputs": [],
   "source": [
    "ax = df.plot(kind='bar',\n",
    "       title='Gráficos de barras de toda la población')\n",
    "ax.set_xlabel('Años',color='grey')\n",
    "ax.set_ylabel('Porcentaje',color='grey')"
   ]
  },
  {
   "cell_type": "markdown",
   "metadata": {},
   "source": [
    "Lo hacemos en horizontal y apilamos la población en una barra."
   ]
  },
  {
   "cell_type": "code",
   "execution_count": null,
   "metadata": {},
   "outputs": [],
   "source": [
    "ax = df1.plot.barh(stacked=True)\n",
    "ax.set_title('Graficos de barras apilados')\n",
    "ax.set_xlabel('Porcentaje',color='grey')\n",
    "ax.set_ylabel('Años',color='grey')"
   ]
  },
  {
   "cell_type": "markdown",
   "metadata": {},
   "source": [
    "## Histogramas"
   ]
  },
  {
   "cell_type": "markdown",
   "metadata": {},
   "source": [
    "Vamos a trabajar con el [Indice de facilidad para hacer negocios](https://es.wikipedia.org/wiki/%C3%8Dndice_de_facilidad_para_hacer_negocios) en distintos países.\n"
   ]
  },
  {
   "cell_type": "markdown",
   "metadata": {},
   "source": [
    "Seleccionamos los paises a utilizar y creamos el dataframe."
   ]
  },
  {
   "cell_type": "code",
   "execution_count": null,
   "metadata": {},
   "outputs": [],
   "source": [
    "paises = [i['id'] for i in wbdata.get_country(incomelevel=['LIC','HIC'])]\n",
    "\n",
    "# Seleccionamos nuestros nuevos datos\n",
    "indicadores = {\"IC.BUS.EASE.XQ\": \"indice_negocio\", \"NY.GDP.PCAP.PP.KD\": \"PIBPC\"} \n",
    "\n",
    "data = wbdata.get_dataframe(indicadores, country=paises, convert_date=True)   \n",
    "df = pd.DataFrame(data=data)"
   ]
  },
  {
   "cell_type": "code",
   "execution_count": null,
   "metadata": {},
   "outputs": [],
   "source": [
    "df.dropna(inplace=True)"
   ]
  },
  {
   "cell_type": "code",
   "execution_count": null,
   "metadata": {},
   "outputs": [],
   "source": [
    "df.info()"
   ]
  },
  {
   "cell_type": "code",
   "execution_count": null,
   "metadata": {},
   "outputs": [],
   "source": [
    "df.head()"
   ]
  },
  {
   "cell_type": "code",
   "execution_count": null,
   "metadata": {},
   "outputs": [],
   "source": [
    "plt.figure()\n",
    "df['PIBPC'].plot.hist(alpha=0.7,  # Con alpha seteamos la transparencia\n",
    "                     color='y',\n",
    "                     bins=9,\n",
    "                     title='Distribución del PIB per capita')\n",
    "plt.xlabel('PIB per capita', color='grey')\n",
    "plt.ylabel('Frecuencia',color='grey')"
   ]
  },
  {
   "cell_type": "markdown",
   "metadata": {},
   "source": [
    "## Box plot"
   ]
  },
  {
   "cell_type": "code",
   "execution_count": null,
   "metadata": {},
   "outputs": [],
   "source": [
    "df['PIBPC'].plot.box(title='Diagrma de caja PIB')"
   ]
  },
  {
   "cell_type": "markdown",
   "metadata": {},
   "source": [
    "Recordamos que dentro de la caja se encuentra el 50% de la población. La línea verde indica la mediana."
   ]
  },
  {
   "cell_type": "markdown",
   "metadata": {},
   "source": [
    "## Scatter plot"
   ]
  },
  {
   "cell_type": "markdown",
   "metadata": {},
   "source": [
    "Hacemos un gráfico de dispersión entre las variables PIB p/ capita e Indice de facilidad p/ hacer negocios."
   ]
  },
  {
   "cell_type": "code",
   "execution_count": null,
   "metadata": {},
   "outputs": [],
   "source": [
    "df.plot.scatter(y='PIBPC', x='indice_negocio',\n",
    "                c='r', \n",
    "                s=df['PIBPC']**0.4    # Con s seteamos el tamaño de los puntos\n",
    "               ) \n",
    "\n",
    "plt.gca().invert_xaxis() \n",
    "plt.xlabel('Indice de facilidad de hacer negocio')\n",
    "plt.ylabel('PIB per capita')"
   ]
  },
  {
   "cell_type": "markdown",
   "metadata": {},
   "source": [
    "Es intuitivo que en los países con más facilidad para los negocios tienen un PIB per capita más alto. "
   ]
  },
  {
   "cell_type": "markdown",
   "metadata": {},
   "source": [
    "Finalmente vemos una variante al gráfico de dispersión, un gráfico hexagonal. "
   ]
  },
  {
   "cell_type": "code",
   "execution_count": null,
   "metadata": {},
   "outputs": [],
   "source": [
    "df.plot.hexbin(y='PIBPC', x='indice_negocio', gridsize=15,\n",
    "              title='Gráfico de dispersión hexagonal')\n",
    "plt.gca().invert_xaxis()\n",
    "plt.xlabel('Indice de facilidad de hacer negocio')\n",
    "plt.ylabel('PIB per capita')"
   ]
  },
  {
   "cell_type": "markdown",
   "metadata": {},
   "source": [
    "## Ejercicio"
   ]
  },
  {
   "cell_type": "markdown",
   "metadata": {},
   "source": [
    "Haga un gráfico para ver la evolución de los inscriptos a las distintas instancias educativas, diferenciando pr género, a lo largo del tiempo. Puede ayudarse con la [documentación](https://pandas.pydata.org/pandas-docs/stable/user_guide/visualization.html)"
   ]
  },
  {
   "cell_type": "code",
   "execution_count": null,
   "metadata": {},
   "outputs": [],
   "source": [
    "indicadores = {'SE.PRM.ENRR.FE':'primario-femenino','SE.PRM.ENRR.MA':'primario-masculino',\n",
    "               'SE.SEC.ENRR.FE':'secundario-femenino','SE.SEC.ENRR.MA':'segundario-masculino',\n",
    "               'SE.TER.ENRR.FE':'terciario-femenino','SE.TER.ENRR.MA':'terciario-masculino'}\n",
    "\n",
    "df = wbdata.get_dataframe(indicadores,country='ARG')"
   ]
  },
  {
   "cell_type": "markdown",
   "metadata": {},
   "source": [
    "Utilize el período [2000-2017]."
   ]
  },
  {
   "cell_type": "code",
   "execution_count": null,
   "metadata": {},
   "outputs": [],
   "source": [
    "# df.iloc..."
   ]
  },
  {
   "cell_type": "markdown",
   "metadata": {},
   "source": [
    "Una vez que tenga los datos a utilizar realice el gráfico. Pruebe agregarle una leyenda y cambiar el color. Tambíen puede etiquetar los ejes y elegir un título."
   ]
  },
  {
   "cell_type": "code",
   "execution_count": null,
   "metadata": {},
   "outputs": [],
   "source": [
    "# df.plot..."
   ]
  }
 ],
 "metadata": {
  "kernelspec": {
   "display_name": "Python 3",
   "language": "python",
   "name": "python3"
  },
  "language_info": {
   "codemirror_mode": {
    "name": "ipython",
    "version": 3
   },
   "file_extension": ".py",
   "mimetype": "text/x-python",
   "name": "python",
   "nbconvert_exporter": "python",
   "pygments_lexer": "ipython3",
   "version": "3.7.1"
  }
 },
 "nbformat": 4,
 "nbformat_minor": 4
}
