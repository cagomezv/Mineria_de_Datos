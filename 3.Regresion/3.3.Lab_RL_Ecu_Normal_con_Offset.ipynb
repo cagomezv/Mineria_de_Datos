{
  "nbformat": 4,
  "nbformat_minor": 0,
  "metadata": {
    "colab": {
      "provenance": []
    },
    "kernelspec": {
      "name": "python3",
      "display_name": "Python 3"
    },
    "language_info": {
      "name": "python"
    }
  },
  "cells": [
    {
      "cell_type": "markdown",
      "source": [
        "\n",
        "# 🧪 Laboratorio: Implemetacion de Regresión Lineal con Offset\n",
        "---\n",
        "## Actividad 1\n",
        "## 🔧 Instrucciones\n",
        "Basandose en el código de la unidad anterior:\n",
        "\n",
        "1. Genere unos datos sinteticos que le permitan suponer la siguiente hipotesis de compotamiento de los datos:\n",
        "\n",
        "$$h(x) = w_0 + w_1 x$$\n",
        "\n",
        "   Donde $w_0$ y $w_1$ son parámetros reales que definen la relación lineal.\n",
        "\n",
        "2. Defina valores arbitrarios para $w_0$ y $w_1$, por ejemplo $w_0 = 2$ y $w_1 = 3$.\n",
        "3. Genere el conjunto de etiquetas $y$ usando la hipótesis y agregando un **ruido gaussiano** (media cero y desviación estándar, por ejemplo, de 1).\n",
        "\n",
        "3. Visualización\n",
        "   - Grafique los datos generados como puntos de dispersión.\n",
        "   - Grafique la línea original sin ruido, es decir, la función $h(x) = w_0 + w_1 x$ como línea base.\n",
        "\n",
        "4. Ajuste del modelo\n",
        "   - Deduzca las ecuaciones de regresión lineal por medio de las ecuaciones normales y obtenga un ajuste a la línea a los datos con ruido.\n",
        "   - Compare visualmente esta nueva línea con la línea real $h(x)$.\n",
        "\n",
        "---\n",
        "\n",
        "### 📌 Preguntas para reflexionar\n",
        "\n",
        "- ¿Cuál es el efecto del ruido gaussiano sobre los datos? ¿Cómo cambia la visualización?\n",
        "- ¿Qué pasa si se cambia la desviación estándar del ruido?\n",
        "- ¿Podría un modelo lineal aprender adecuadamente la relación entre $x$ y $y$? ¿Por qué?"
      ],
      "metadata": {
        "id": "ovyFpH2zOSwp"
      }
    },
    {
      "cell_type": "markdown",
      "source": [
        "## Actividad 2\n",
        "## 🔧 Instrucciones\n",
        "\n",
        "- Leer el fichero de datos “DatosRegresion1D.xlsx”.\n",
        "- Considere la hipótesis (el modelo) de que los puntos se ajustan a una recta que pasa por el origen, de acuerdo con la expresión\n",
        "$$ℎ(𝑥)=𝑤𝑥$$\n",
        "- Dibuje un gráfico con los 100 primeros puntos y la hipótesis $𝑤=0.1$.\n",
        "- Considere la función de coste cuadrática.\n",
        "- Dibuje la función de coste resultante para valores $𝑤 ∈ [0,0.3]$.\n",
        "- Dibuje e imprima el valor de $𝑤$ que minimiza el coste.\n",
        "- El valor óptimo de $𝑤$ puede también calcularse mediante la ecuación normal definida con anterioridad.\n",
        "- Imprima el valor óptimo obtenido y compárelo con el obtenido con la ecuación normal.\n",
        "- Dibuje de nuevo los primeros 100 puntos, la hipótesis $𝑤=0.1$ y la hipótesis óptima.\n",
        "- Dibuje la curva de aprendizaje correspondiente a la generalización del modelo anterior. Para ello:\n",
        " - Utilice un número de clientes para entrenar el modelo en el rango $𝑛_{𝑡𝑟𝑎𝑖𝑛} ∈ [10,200]$.\n",
        " - Utilice un número de clientes de prueba $𝑛_{𝑡𝑒𝑠𝑡}=𝑛−𝑛_{𝑡𝑟𝑎𝑖𝑛}$, siendo 𝑛=1000 el número total de clientes en el archivo."
      ],
      "metadata": {
        "id": "ByEd7_UK6EfJ"
      }
    }
  ]
}