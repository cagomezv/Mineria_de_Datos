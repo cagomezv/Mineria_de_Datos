{
  "nbformat": 4,
  "nbformat_minor": 0,
  "metadata": {
    "colab": {
      "provenance": []
    },
    "kernelspec": {
      "name": "python3",
      "display_name": "Python 3"
    },
    "language_info": {
      "name": "python"
    }
  },
  "cells": [
    {
      "cell_type": "code",
      "execution_count": null,
      "metadata": {
        "id": "UioE5FYOrxbD"
      },
      "outputs": [],
      "source": [
        "import numpy as np\n",
        "import matplotlib.pyplot as plt\n",
        "\n",
        "perdidatotal=[]\n",
        "\n",
        "\n",
        "#Definir la función sigmoide\n",
        "def sigmoid(x):\n",
        "  return 1/(1+np.exp(-x))\n",
        "\n",
        "\n",
        "#Función de entrenamiento de la regresión logística\n",
        "def logistic_regression(X,y,lr,epochs): #epochs -> El número de veces que entreno el modelo.\n",
        "\n",
        "  m,n=X.shape\n",
        "  theta=np.zeros(n)\n",
        "\n",
        "  #Descenso del gradiente\n",
        "  for epoch in range(epochs):\n",
        "    #Calcular la probabilidad (predicción) y la perdida.\n",
        "    z=np.dot(X,theta)\n",
        "    h=sigmoid(z)\n",
        "    loss=-np.mean(y*np.log(h)+(1-y)*np.log(1-h)) #Cálculo de la función de perdida.\n",
        "    perdidatotal.append(loss)\n",
        "\n",
        "    #Calcular el gradiente.\n",
        "    gradient=np.dot(X.T,(h-y))/m\n",
        "\n",
        "    #Actualizar parametros\n",
        "    theta-=lr*gradient\n",
        "\n",
        "    #Imprimir la perdidad de cada época\n",
        "    if(epoch+1)%100==0:\n",
        "      print(f\"Epoca {epoch+1}/{epochs}, Perdida (Loss):{loss}\")\n",
        "\n",
        "  return theta\n"
      ]
    },
    {
      "cell_type": "code",
      "source": [
        "#Datos de ejemplo:\n",
        "X = np.array([[1, 2], [1, 3], [1, 4], [1, 5]])\n",
        "y = np.array([0, 0, 1, 1])\n",
        "\n",
        "#Entrenar el modelo.\n",
        "learning_rate=0.1\n",
        "num_epochs=1000\n",
        "optimal_params=logistic_regression(X,y,learning_rate,num_epochs)"
      ],
      "metadata": {
        "colab": {
          "base_uri": "https://localhost:8080/"
        },
        "id": "UedD423JyxOK",
        "outputId": "c95c203c-3322-4217-ce66-96555d93b554"
      },
      "execution_count": null,
      "outputs": [
        {
          "output_type": "stream",
          "name": "stdout",
          "text": [
            "Epoca 100/1000, Perdida (Loss):0.5297226475311346\n",
            "Epoca 200/1000, Perdida (Loss):0.4411731344833296\n",
            "Epoca 300/1000, Perdida (Loss):0.37969678169767873\n",
            "Epoca 400/1000, Perdida (Loss):0.3351683765663329\n",
            "Epoca 500/1000, Perdida (Loss):0.30160014920920913\n",
            "Epoca 600/1000, Perdida (Loss):0.27540291236941555\n",
            "Epoca 700/1000, Perdida (Loss):0.2543551007877653\n",
            "Epoca 800/1000, Perdida (Loss):0.23703032782480188\n",
            "Epoca 900/1000, Perdida (Loss):0.22247951428947998\n",
            "Epoca 1000/1000, Perdida (Loss):0.2100501685444313\n"
          ]
        }
      ]
    },
    {
      "cell_type": "code",
      "source": [
        "#Plotear la curva de aprendizaje.\n",
        "plt.plot(range(1, num_epochs+1), perdidatotal)\n",
        "plt.xlabel(\"Epocas\")\n",
        "plt.ylabel(\"Perdida\")\n",
        "plt.title(\"Curva de Aprendizaje\")\n",
        "plt.show()\n",
        "print(\"Parametros óptimos:\",optimal_params)"
      ],
      "metadata": {
        "colab": {
          "base_uri": "https://localhost:8080/",
          "height": 489
        },
        "id": "BB19PwMj4bi6",
        "outputId": "2e34dc4c-c6f3-425e-b705-e6279aaf7d85"
      },
      "execution_count": null,
      "outputs": [
        {
          "output_type": "display_data",
          "data": {
            "text/plain": [
              "<Figure size 640x480 with 1 Axes>"
            ],
            "image/png": "[encoded data removed]"
          },
          "metadata": {}
        },
        {
          "output_type": "stream",
          "name": "stdout",
          "text": [
            "Parametros óptimos: [-5.97303274  1.7764563 ]\n"
          ]
        }
      ]
    },
    {
      "cell_type": "markdown",
      "source": [
        "# Lo mismo pero implementando la libreria scikit-learn"
      ],
      "metadata": {
        "id": "CKyPJVVe8GWk"
      }
    },
    {
      "cell_type": "code",
      "source": [
        "from sklearn.linear_model import LogisticRegression\n",
        "\n",
        "#Datos de ejemplo:\n",
        "X = np.array([[1, 2], [1, 3], [1, 4], [1, 5]])\n",
        "y = np.array([0, 0, 1, 1])\n",
        "\n",
        "#Entrenar el modelo\n",
        "modelo=LogisticRegression()\n",
        "modelo.fit(X,y)\n",
        "\n",
        "#Parametros encontrados\n",
        "print(\"Parametros óptimos conseguidos:\", modelo.intercept_, modelo.coef_)"
      ],
      "metadata": {
        "colab": {
          "base_uri": "https://localhost:8080/"
        },
        "id": "CEbE6rf38R8E",
        "outputId": "84c82ba8-2b1b-4894-f586-313c2367859d"
      },
      "execution_count": null,
      "outputs": [
        {
          "output_type": "stream",
          "name": "stdout",
          "text": [
            "Parametros óptimos conseguidos: [-3.35395202] [[4.83038815e-05 9.58262243e-01]]\n"
          ]
        }
      ]
    }
  ]
}