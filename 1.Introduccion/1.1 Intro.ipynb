{
 "cells": [
  {
   "cell_type": "markdown",
   "id": "f94a86c5",
   "metadata": {},
   "source": [
    "# Tutorial básico de Python\n",
    "Este cuaderno cubre los conceptos más básicos de Python, desde variables y tipos de datos hasta programación orientada a objetos (POO)."
   ]
  },
  {
   "cell_type": "markdown",
   "id": "fbfd1a59",
   "metadata": {},
   "source": [
    "## Variables y tipos de datos\n",
    "En Python no es necesario declarar el tipo de variable."
   ]
  },
  {
   "cell_type": "code",
   "execution_count": null,
   "id": "fd84cdb8",
   "metadata": {},
   "outputs": [],
   "source": [
    "x = 5  # entero\n",
    "nombre = \"Ana\"  # cadena de texto\n",
    "pi = 3.14  # flotante\n",
    "es_estudiante = True  # booleano\n",
    "print(x, nombre, pi, es_estudiante)"
   ]
  },
  {
   "cell_type": "markdown",
   "id": "b3ba9682",
   "metadata": {},
   "source": [
    "## Operaciones básicas\n",
    "Puedes hacer operaciones matemáticas básicas con los operadores `+`, `-`, `*`, `/`, `//`, `%`, `**`."
   ]
  },
  {
   "cell_type": "code",
   "execution_count": null,
   "id": "cfcd2754",
   "metadata": {},
   "outputs": [],
   "source": [
    "a = 10\n",
    "b = 3\n",
    "print(\"Suma:\", a + b)\n",
    "print(\"Resta:\", a - b)\n",
    "print(\"Multiplicación:\", a * b)\n",
    "print(\"División:\", a / b)\n",
    "print(\"División entera:\", a // b)\n",
    "print(\"Módulo:\", a % b)\n",
    "print(\"Potencia:\", a ** b)"
   ]
  },
  {
   "cell_type": "markdown",
   "id": "2bebffc9",
   "metadata": {},
   "source": [
    "## Estructuras de control\n",
    "Usamos `if`, `elif`, y `else` para tomar decisiones."
   ]
  },
  {
   "cell_type": "code",
   "execution_count": null,
   "id": "4c99af35",
   "metadata": {},
   "outputs": [],
   "source": [
    "edad = 18\n",
    "if edad < 18:\n",
    "    print(\"Menor de edad\")\n",
    "elif edad == 18:\n",
    "    print(\"Justo 18\")\n",
    "else:\n",
    "    print(\"Mayor de edad\")"
   ]
  },
  {
   "cell_type": "markdown",
   "id": "2e44296e",
   "metadata": {},
   "source": [
    "## Bucles\n",
    "`for` y `while` permiten ejecutar instrucciones múltiples veces."
   ]
  },
  {
   "cell_type": "code",
   "execution_count": null,
   "id": "30b949f0",
   "metadata": {},
   "outputs": [],
   "source": [
    "# Bucle for\n",
    "for i in range(5):\n",
    "    print(\"Número:\", i)"
   ]
  },
  {
   "cell_type": "code",
   "execution_count": null,
   "id": "7c555b6e",
   "metadata": {},
   "outputs": [],
   "source": [
    "# Bucle while\n",
    "n = 0\n",
    "while n < 3:\n",
    "    print(\"n vale:\", n)\n",
    "    n += 1"
   ]
  },
  {
   "cell_type": "markdown",
   "id": "e0cc0103",
   "metadata": {},
   "source": [
    "## Funciones\n",
    "Las funciones permiten reutilizar código."
   ]
  },
  {
   "cell_type": "code",
   "execution_count": null,
   "id": "a584ed6e",
   "metadata": {},
   "outputs": [],
   "source": [
    "def saludar(nombre):\n",
    "    return f\"Hola, {nombre}!\"\n",
    "\n",
    "print(saludar(\"Carlos\"))"
   ]
  },
  {
   "cell_type": "markdown",
   "id": "f711fc54",
   "metadata": {},
   "source": [
    "## Listas y Diccionarios\n",
    "Estructuras de datos comunes en Python."
   ]
  },
  {
   "cell_type": "code",
   "execution_count": null,
   "id": "dd72e8a0",
   "metadata": {},
   "outputs": [],
   "source": [
    "# Lista\n",
    "frutas = [\"manzana\", \"banana\", \"cereza\"]\n",
    "print(frutas)\n",
    "\n",
    "# Diccionario\n",
    "persona = {\"nombre\": \"Ana\", \"edad\": 25}\n",
    "print(persona)"
   ]
  },
  {
   "cell_type": "markdown",
   "id": "4106e422",
   "metadata": {},
   "source": [
    "## Manejo de errores\n",
    "Usamos `try` y `except` para controlar errores."
   ]
  },
  {
   "cell_type": "code",
   "execution_count": null,
   "id": "83f18c6b",
   "metadata": {},
   "outputs": [],
   "source": [
    "try:\n",
    "    x = 10 / 0\n",
    "except ZeroDivisionError:\n",
    "    print(\"No puedes dividir por cero.\")"
   ]
  },
  {
   "cell_type": "markdown",
   "id": "886195b8",
   "metadata": {},
   "source": [
    "## Programación Orientada a Objetos\n",
    "La POO permite agrupar datos y funciones en estructuras llamadas **clases**."
   ]
  },
  {
   "cell_type": "markdown",
   "id": "18f2810e",
   "metadata": {},
   "source": [
    "## Clases y Objetos\n",
    "Creamos clases con la palabra clave `class` y objetos instanciando la clase."
   ]
  },
  {
   "cell_type": "code",
   "execution_count": null,
   "id": "dcde5364",
   "metadata": {},
   "outputs": [],
   "source": [
    "class Persona:\n",
    "    def __init__(self, nombre, edad):\n",
    "        self.nombre = nombre\n",
    "        self.edad = edad\n",
    "\n",
    "persona1 = Persona(\"Luis\", 30)\n",
    "print(persona1.nombre, persona1.edad)"
   ]
  },
  {
   "cell_type": "markdown",
   "id": "223cd955",
   "metadata": {},
   "source": [
    "## Métodos y Atributos\n",
    "Los métodos son funciones dentro de una clase."
   ]
  },
  {
   "cell_type": "code",
   "execution_count": null,
   "id": "7fb2c6e0",
   "metadata": {},
   "outputs": [],
   "source": [
    "class Perro:\n",
    "    def __init__(self, nombre):\n",
    "        self.nombre = nombre\n",
    "\n",
    "    def ladrar(self):\n",
    "        print(f\"{self.nombre} dice: ¡Guau!\")\n",
    "\n",
    "mi_perro = Perro(\"Toby\")\n",
    "mi_perro.ladrar()"
   ]
  },
  {
   "cell_type": "markdown",
   "id": "8d99a025",
   "metadata": {},
   "source": [
    "## Ejemplo completo con POO"
   ]
  },
  {
   "cell_type": "code",
   "execution_count": null,
   "id": "f285da0b",
   "metadata": {},
   "outputs": [],
   "source": [
    "class Coche:\n",
    "    def __init__(self, marca, modelo):\n",
    "        self.marca = marca\n",
    "        self.modelo = modelo\n",
    "        self.encendido = False\n",
    "\n",
    "    def encender(self):\n",
    "        self.encendido = True\n",
    "        print(f\"{self.marca} {self.modelo} está encendido.\")\n",
    "\n",
    "    def apagar(self):\n",
    "        self.encendido = False\n",
    "        print(f\"{self.marca} {self.modelo} está apagado.\")\n",
    "\n",
    "mi_coche = Coche(\"Toyota\", \"Corolla\")\n",
    "mi_coche.encender()\n",
    "mi_coche.apagar()"
   ]
  },
  {
   "cell_type": "markdown",
   "id": "c14543ac",
   "metadata": {},
   "source": [
    "## 📝 Ejercicios propuestos\n",
    "1. Crear una función que reciba una lista de números y devuelva la suma.\n",
    "2. Crear una clase `Rectángulo` con métodos para calcular área y perímetro.\n",
    "3. Crear un programa que pida al usuario ingresar datos y los almacene en un diccionario."
   ]
  }
 ],
 "metadata": {},
 "nbformat": 4,
 "nbformat_minor": 5
}
